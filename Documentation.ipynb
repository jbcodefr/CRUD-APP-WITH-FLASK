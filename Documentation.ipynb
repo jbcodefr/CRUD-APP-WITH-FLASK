{
  "nbformat": 4,
  "nbformat_minor": 0,
  "metadata": {
    "colab": {
      "name": "Documentation.ipynb",
      "provenance": [],
      "collapsed_sections": [],
      "authorship_tag": "ABX9TyNFPTeQlNqv0tK67f44ivSv"
    },
    "kernelspec": {
      "name": "python3",
      "display_name": "Python 3"
    },
    "language_info": {
      "name": "python"
    }
  },
  "cells": [
    {
      "cell_type": "markdown",
      "source": [
        "# Installation \n",
        "\n",
        "1.   Virtual environments &  Install Flask\n",
        "\n",
        "      https://flask.palletsprojects.com/en/2.0.x/installation/\n",
        "\n",
        "    ! if execution error : \n",
        "        check if the execution of scripts is disabled on this system: https://go.microsoft.com/fwlink/?LinkID=135170.\n",
        "\n"
      ],
      "metadata": {
        "id": "ptkT4wb1754m"
      }
    },
    {
      "cell_type": "markdown",
      "source": [
        "#Libraries"
      ],
      "metadata": {
        "id": "KJ87UOuLCPfn"
      }
    },
    {
      "cell_type": "code",
      "source": [
        "from flask import Flask,render_template,request, flash, redirect, url_for\n",
        "from flask_sqlalchemy import SQLAlchemy"
      ],
      "metadata": {
        "id": "O-RC_BbvC9YQ"
      },
      "execution_count": null,
      "outputs": []
    }
  ]
}