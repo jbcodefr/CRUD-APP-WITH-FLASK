{
  "nbformat": 4,
  "nbformat_minor": 0,
  "metadata": {
    "colab": {
      "name": "Documentation.ipynb",
      "provenance": [],
      "collapsed_sections": [],
      "authorship_tag": "ABX9TyNGI1ddHGeWOL5FeBn44aXv",
      "include_colab_link": true
    },
    "kernelspec": {
      "name": "python3",
      "display_name": "Python 3"
    },
    "language_info": {
      "name": "python"
    }
  },
  "cells": [
    {
      "cell_type": "markdown",
      "metadata": {
        "id": "view-in-github",
        "colab_type": "text"
      },
      "source": [
        "<a href=\"https://colab.research.google.com/github/jbcodefr/CRUD-APP-WITH-FLASK/blob/main/Documentation.ipynb\" target=\"_parent\"><img src=\"https://colab.research.google.com/assets/colab-badge.svg\" alt=\"Open In Colab\"/></a>"
      ]
    },
    {
      "cell_type": "markdown",
      "source": [
        "# Installation \n",
        "\n",
        "1.   Virtual environments &  Install Flask\n",
        "\n",
        "      https://flask.palletsprojects.com/en/2.0.x/installation/\n",
        "\n"
      ],
      "metadata": {
        "id": "ptkT4wb1754m"
      }
    },
    {
      "cell_type": "markdown",
      "source": [
        ""
      ],
      "metadata": {
        "id": "kLPK0AOA72FW"
      }
    }
  ]
}